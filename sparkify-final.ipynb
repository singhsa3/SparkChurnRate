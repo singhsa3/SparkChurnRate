{
 "cells": [
  {
   "cell_type": "markdown",
   "metadata": {},
   "source": [
    "# Please read this conjunction with my post on medium\n",
    "\n",
    "https://medium.com/@singhsa3/spark-in-action-to-predict-customer-churn-rate-on-a-real-dataset-75ffabb1332c"
   ]
  },
  {
   "cell_type": "code",
   "execution_count": 1,
   "metadata": {
    "collapsed": true
   },
   "outputs": [],
   "source": [
    "import time\n",
    "start_time = time.time()"
   ]
  },
  {
   "cell_type": "code",
   "execution_count": 2,
   "metadata": {
    "collapsed": true
   },
   "outputs": [],
   "source": [
    "# import libraries\n",
    "from pyspark.sql import SparkSession\n",
    "from pyspark import SparkContext\n",
    "from pyspark.sql import functions as F\n",
    "from pyspark.sql.types import IntegerType\n",
    "from pyspark.sql.window import Window\n",
    "from pyspark.sql.functions import lit\n",
    "import pandas as pd"
   ]
  },
  {
   "cell_type": "markdown",
   "metadata": {},
   "source": [
    "# Creating spark sessions and load data from S3"
   ]
  },
  {
   "cell_type": "code",
   "execution_count": 3,
   "metadata": {
    "collapsed": true
   },
   "outputs": [],
   "source": [
    "# create a Spark session\n",
    "spark = SparkSession \\\n",
    ".builder \\\n",
    ".appName(\"capstone\") \\\n",
    ".getOrCreate()"
   ]
  },
  {
   "cell_type": "code",
   "execution_count": 4,
   "metadata": {},
   "outputs": [
    {
     "name": "stdout",
     "output_type": "stream",
     "text": [
      "root\n",
      " |-- artist: string (nullable = true)\n",
      " |-- auth: string (nullable = true)\n",
      " |-- firstName: string (nullable = true)\n",
      " |-- gender: string (nullable = true)\n",
      " |-- itemInSession: long (nullable = true)\n",
      " |-- lastName: string (nullable = true)\n",
      " |-- length: double (nullable = true)\n",
      " |-- level: string (nullable = true)\n",
      " |-- location: string (nullable = true)\n",
      " |-- method: string (nullable = true)\n",
      " |-- page: string (nullable = true)\n",
      " |-- registration: long (nullable = true)\n",
      " |-- sessionId: long (nullable = true)\n",
      " |-- song: string (nullable = true)\n",
      " |-- status: long (nullable = true)\n",
      " |-- ts: long (nullable = true)\n",
      " |-- userAgent: string (nullable = true)\n",
      " |-- userId: string (nullable = true)\n",
      "\n"
     ]
    }
   ],
   "source": [
    "# Load data\n",
    "event_data = \"s3n://udacity-dsnd/sparkify/sparkify_event_data.json\"\n",
    "#event_data=\"s3n://udacity-dsnd/sparkify/mini_sparkify_event_data.json\"\n",
    "#event_data = \"sparkify_event_data.json\"\n",
    "#event_data = \"mini_sparkify_event_data.json\"\n",
    "df = spark.read.json(event_data)\n",
    "df.printSchema()"
   ]
  },
  {
   "cell_type": "markdown",
   "metadata": {},
   "source": [
    "# Exploratory Data Analysis"
   ]
  },
  {
   "cell_type": "markdown",
   "metadata": {},
   "source": [
    "## Data preprocessing"
   ]
  },
  {
   "cell_type": "code",
   "execution_count": 5,
   "metadata": {
    "collapsed": true
   },
   "outputs": [],
   "source": [
    "# Filtering blank user ids and session ids\n",
    "df=df.filter((df.userId != '') | (df.sessionId !=''))"
   ]
  },
  {
   "cell_type": "code",
   "execution_count": 6,
   "metadata": {
    "collapsed": true
   },
   "outputs": [],
   "source": [
    "# Feature engineering\n",
    "# Here we are converting some values to numbers\n",
    "\n",
    "# Define the window\n",
    "user_window = Window \\\n",
    "    .partitionBy(\"userId\") \\\n",
    "    .orderBy(F.desc('ts')) \\\n",
    "    .rangeBetween(Window.unboundedPreceding, 0)\n",
    "\n",
    "# A function to convert into boolean 0 or 1\n",
    "bool_conv = F.udf(lambda ishome , chk_val : int(ishome == chk_val), IntegerType())\n",
    "\n",
    "# Converting Male to 1 everyone else to 0\n",
    "df= df.withColumn(\"mf\",bool_conv (F.column('gender'),lit(\"M\"))).na.fill(0)\n",
    "\n",
    "# Converting paid to 1 and everyone else to 0\n",
    "df= df.withColumn(\"lvl\", bool_conv(F.col('level'),lit(\"paid\"))).na.fill(0)\n",
    "\n",
    "# Converting Home page visit to 1 and everyone else to 0\n",
    "df= df.withColumn('homevisit', bool_conv(F.col('page'),lit(\"Home\"))).na.fill(0)\n",
    "\n",
    "# Visit to home each time is considered a visit. The visits are numbered\n",
    "\n",
    "df= df.withColumn('period', F.sum('homevisit').over(user_window))\n",
    "\n",
    "# This will be used to determine how many songs played in a visit.\n",
    "cusum = df.filter((df.page == 'NextSong') | (df.page == 'Home')) \n",
    "\n",
    "period_count=cusum.filter((cusum.page == 'NextSong') ) \\\n",
    "    .groupBy('userId', 'period') \\\n",
    "    .agg({'period':'count'}) \n"
   ]
  },
  {
   "cell_type": "code",
   "execution_count": 7,
   "metadata": {},
   "outputs": [
    {
     "name": "stdout",
     "output_type": "stream",
     "text": [
      "+--------------------+\n",
      "|                page|\n",
      "+--------------------+\n",
      "|              Cancel|\n",
      "|    Submit Downgrade|\n",
      "|         Thumbs Down|\n",
      "|                Home|\n",
      "|           Downgrade|\n",
      "|         Roll Advert|\n",
      "|              Logout|\n",
      "|       Save Settings|\n",
      "|Cancellation Conf...|\n",
      "|               About|\n",
      "| Submit Registration|\n",
      "|            Settings|\n",
      "|               Login|\n",
      "|            Register|\n",
      "|     Add to Playlist|\n",
      "|          Add Friend|\n",
      "|            NextSong|\n",
      "|           Thumbs Up|\n",
      "|                Help|\n",
      "|             Upgrade|\n",
      "|               Error|\n",
      "|      Submit Upgrade|\n",
      "+--------------------+\n",
      "\n"
     ]
    }
   ],
   "source": [
    "# Possible values in a page visit\n",
    "df.select('page').distinct().show(30)"
   ]
  },
  {
   "cell_type": "code",
   "execution_count": 8,
   "metadata": {
    "collapsed": true
   },
   "outputs": [],
   "source": [
    "# We are building some additional features\n",
    "# avg number of songs listened per visit\n",
    "avg_songs =period_count.groupby('userId').agg(F.round(F.avg('count(period)'),scale=0).alias(\"avg_songs\"))\n",
    "# What was the last reported level (paid or free)\n",
    "last_level  = cusum.filter((cusum.page == 'NextSong') ).groupby('userId').agg(F.first(\"lvl\").alias('last_level'))\n",
    "# what was the last reported gender\n",
    "last_gender = cusum.filter((cusum.page == 'NextSong') ).groupby('userId').agg(F.first(\"mf\").alias('last_gender'))\n",
    "# Irrespective of visits , here we will count total number of times visited on each page\n",
    "page_agg =df.select(\"userId\",\"page\").groupby(\"userId\", \"page\").agg(F.count(\"page\").alias(\"page_count\"))\n",
    "# We are pivoting such that each page appear of on the column.\n",
    "# It is akin to one hot encoding, except that the values are not 0 or 1 but actual number of visits.\n",
    "page_agg =page_agg.groupby(\"userId\").pivot(\"page\").sum(\"page_count\")"
   ]
  },
  {
   "cell_type": "code",
   "execution_count": 9,
   "metadata": {
    "collapsed": true
   },
   "outputs": [],
   "source": [
    "# Here we will create a base dataset for feeding into ML algorithm\n",
    "df_base =page_agg.join(avg_songs, (avg_songs.userId ==  page_agg.userId), how=\"left\" ).drop(avg_songs.userId)\n",
    "df_base = df_base.join(last_level,(last_level.userId == df_base.userId),  how =\"left\").drop(last_level.userId)\n",
    "df_base = df_base.join(last_gender,(last_gender.userId == df_base.userId),  how =\"left\").drop(last_gender.userId)\n",
    "df_base=df_base.na.fill(0)"
   ]
  },
  {
   "cell_type": "code",
   "execution_count": 10,
   "metadata": {
    "collapsed": true
   },
   "outputs": [],
   "source": [
    "# Churn is based on cacellation confirmation. PS: I am using Label for churns\n",
    "bool_conv2 = F.udf(lambda ishome  : 0 if ishome == 0 else 1)\n",
    "df_base= df_base.withColumn('label',bool_conv2 (F.col( 'Cancellation Confirmation'))*1.0)\n"
   ]
  },
  {
   "cell_type": "code",
   "execution_count": 11,
   "metadata": {
    "collapsed": true
   },
   "outputs": [],
   "source": [
    "# droping some columns that are not neeeded\n",
    "df_base=df_base.drop('Cancel','Cancellation Confirmation')"
   ]
  },
  {
   "cell_type": "code",
   "execution_count": 12,
   "metadata": {
    "collapsed": true
   },
   "outputs": [],
   "source": [
    "# Renaming columns so that the column names.\"_\" was creating some problems.\n",
    "for i,x in enumerate(df_base.columns):\n",
    "    y = df_base.columns[i].replace(\" \", \"_\")  \n",
    "    df_base= df_base.withColumnRenamed(x,y)   \n",
    "    "
   ]
  },
  {
   "cell_type": "code",
   "execution_count": 46,
   "metadata": {},
   "outputs": [
    {
     "data": {
      "text/plain": [
       "['About',\n",
       " 'Add_Friend',\n",
       " 'Add_to_Playlist',\n",
       " 'Downgrade',\n",
       " 'Error',\n",
       " 'Help',\n",
       " 'Home',\n",
       " 'Login',\n",
       " 'Logout',\n",
       " 'NextSong',\n",
       " 'Register',\n",
       " 'Roll_Advert',\n",
       " 'Save_Settings',\n",
       " 'Settings',\n",
       " 'Submit_Downgrade',\n",
       " 'Submit_Registration',\n",
       " 'Submit_Upgrade',\n",
       " 'Thumbs_Down',\n",
       " 'Thumbs_Up',\n",
       " 'Upgrade',\n",
       " 'userId',\n",
       " 'avg_songs',\n",
       " 'last_level',\n",
       " 'last_gender',\n",
       " 'label']"
      ]
     },
     "execution_count": 46,
     "metadata": {},
     "output_type": "execute_result"
    }
   ],
   "source": [
    "# Our base dataset is now ready\n",
    "df_base.columns"
   ]
  },
  {
   "cell_type": "code",
   "execution_count": null,
   "metadata": {
    "collapsed": true
   },
   "outputs": [],
   "source": [
    "df_base_pandas = df_base.toPandas()"
   ]
  },
  {
   "cell_type": "code",
   "execution_count": 47,
   "metadata": {},
   "outputs": [
    {
     "data": {
      "text/html": [
       "<div>\n",
       "<style scoped>\n",
       "    .dataframe tbody tr th:only-of-type {\n",
       "        vertical-align: middle;\n",
       "    }\n",
       "\n",
       "    .dataframe tbody tr th {\n",
       "        vertical-align: top;\n",
       "    }\n",
       "\n",
       "    .dataframe thead th {\n",
       "        text-align: right;\n",
       "    }\n",
       "</style>\n",
       "<table border=\"1\" class=\"dataframe\">\n",
       "  <thead>\n",
       "    <tr style=\"text-align: right;\">\n",
       "      <th></th>\n",
       "      <th>About</th>\n",
       "      <th>Add_Friend</th>\n",
       "      <th>Add_to_Playlist</th>\n",
       "      <th>Downgrade</th>\n",
       "      <th>Error</th>\n",
       "      <th>Help</th>\n",
       "      <th>Home</th>\n",
       "      <th>Login</th>\n",
       "      <th>Logout</th>\n",
       "      <th>NextSong</th>\n",
       "      <th>...</th>\n",
       "      <th>Submit_Downgrade</th>\n",
       "      <th>Submit_Registration</th>\n",
       "      <th>Submit_Upgrade</th>\n",
       "      <th>Thumbs_Down</th>\n",
       "      <th>Thumbs_Up</th>\n",
       "      <th>Upgrade</th>\n",
       "      <th>avg_songs</th>\n",
       "      <th>last_level</th>\n",
       "      <th>last_gender</th>\n",
       "      <th>label</th>\n",
       "    </tr>\n",
       "  </thead>\n",
       "  <tbody>\n",
       "    <tr>\n",
       "      <th>count</th>\n",
       "      <td>22278.000000</td>\n",
       "      <td>22278.000000</td>\n",
       "      <td>22278.000000</td>\n",
       "      <td>22278.000000</td>\n",
       "      <td>22278.000000</td>\n",
       "      <td>22278.000000</td>\n",
       "      <td>22278.000000</td>\n",
       "      <td>22278.000000</td>\n",
       "      <td>22278.000000</td>\n",
       "      <td>22278.000000</td>\n",
       "      <td>...</td>\n",
       "      <td>22278.000000</td>\n",
       "      <td>22278.00000</td>\n",
       "      <td>22278.000000</td>\n",
       "      <td>22278.000000</td>\n",
       "      <td>22278.000000</td>\n",
       "      <td>22278.000000</td>\n",
       "      <td>22278.000000</td>\n",
       "      <td>22278.000000</td>\n",
       "      <td>22278.000000</td>\n",
       "      <td>22278.000000</td>\n",
       "    </tr>\n",
       "    <tr>\n",
       "      <th>mean</th>\n",
       "      <td>4.163704</td>\n",
       "      <td>17.131879</td>\n",
       "      <td>26.839079</td>\n",
       "      <td>8.270042</td>\n",
       "      <td>1.165365</td>\n",
       "      <td>6.962025</td>\n",
       "      <td>60.288266</td>\n",
       "      <td>13.302361</td>\n",
       "      <td>13.286875</td>\n",
       "      <td>935.913098</td>\n",
       "      <td>...</td>\n",
       "      <td>0.291498</td>\n",
       "      <td>0.01800</td>\n",
       "      <td>0.679370</td>\n",
       "      <td>10.737589</td>\n",
       "      <td>51.686193</td>\n",
       "      <td>2.267125</td>\n",
       "      <td>21.537571</td>\n",
       "      <td>0.226681</td>\n",
       "      <td>0.522489</td>\n",
       "      <td>0.224571</td>\n",
       "    </tr>\n",
       "    <tr>\n",
       "      <th>std</th>\n",
       "      <td>297.350418</td>\n",
       "      <td>20.514932</td>\n",
       "      <td>32.071278</td>\n",
       "      <td>11.600283</td>\n",
       "      <td>6.338093</td>\n",
       "      <td>171.973041</td>\n",
       "      <td>2746.874171</td>\n",
       "      <td>1985.486012</td>\n",
       "      <td>14.549335</td>\n",
       "      <td>1099.625399</td>\n",
       "      <td>...</td>\n",
       "      <td>0.605855</td>\n",
       "      <td>2.68662</td>\n",
       "      <td>0.756197</td>\n",
       "      <td>12.615942</td>\n",
       "      <td>64.588850</td>\n",
       "      <td>2.652989</td>\n",
       "      <td>6.994660</td>\n",
       "      <td>0.418694</td>\n",
       "      <td>0.499505</td>\n",
       "      <td>0.417309</td>\n",
       "    </tr>\n",
       "    <tr>\n",
       "      <th>min</th>\n",
       "      <td>0.000000</td>\n",
       "      <td>0.000000</td>\n",
       "      <td>0.000000</td>\n",
       "      <td>0.000000</td>\n",
       "      <td>0.000000</td>\n",
       "      <td>0.000000</td>\n",
       "      <td>0.000000</td>\n",
       "      <td>0.000000</td>\n",
       "      <td>0.000000</td>\n",
       "      <td>0.000000</td>\n",
       "      <td>...</td>\n",
       "      <td>0.000000</td>\n",
       "      <td>0.00000</td>\n",
       "      <td>0.000000</td>\n",
       "      <td>0.000000</td>\n",
       "      <td>0.000000</td>\n",
       "      <td>0.000000</td>\n",
       "      <td>0.000000</td>\n",
       "      <td>0.000000</td>\n",
       "      <td>0.000000</td>\n",
       "      <td>0.000000</td>\n",
       "    </tr>\n",
       "    <tr>\n",
       "      <th>25%</th>\n",
       "      <td>0.000000</td>\n",
       "      <td>3.000000</td>\n",
       "      <td>5.000000</td>\n",
       "      <td>0.000000</td>\n",
       "      <td>0.000000</td>\n",
       "      <td>1.000000</td>\n",
       "      <td>11.000000</td>\n",
       "      <td>0.000000</td>\n",
       "      <td>4.000000</td>\n",
       "      <td>204.000000</td>\n",
       "      <td>...</td>\n",
       "      <td>0.000000</td>\n",
       "      <td>0.00000</td>\n",
       "      <td>0.000000</td>\n",
       "      <td>2.000000</td>\n",
       "      <td>10.000000</td>\n",
       "      <td>0.000000</td>\n",
       "      <td>17.000000</td>\n",
       "      <td>0.000000</td>\n",
       "      <td>0.000000</td>\n",
       "      <td>0.000000</td>\n",
       "    </tr>\n",
       "    <tr>\n",
       "      <th>50%</th>\n",
       "      <td>1.000000</td>\n",
       "      <td>10.000000</td>\n",
       "      <td>16.000000</td>\n",
       "      <td>4.000000</td>\n",
       "      <td>1.000000</td>\n",
       "      <td>3.000000</td>\n",
       "      <td>27.000000</td>\n",
       "      <td>0.000000</td>\n",
       "      <td>9.000000</td>\n",
       "      <td>552.000000</td>\n",
       "      <td>...</td>\n",
       "      <td>0.000000</td>\n",
       "      <td>0.00000</td>\n",
       "      <td>1.000000</td>\n",
       "      <td>7.000000</td>\n",
       "      <td>29.000000</td>\n",
       "      <td>1.000000</td>\n",
       "      <td>22.000000</td>\n",
       "      <td>0.000000</td>\n",
       "      <td>1.000000</td>\n",
       "      <td>0.000000</td>\n",
       "    </tr>\n",
       "    <tr>\n",
       "      <th>75%</th>\n",
       "      <td>3.000000</td>\n",
       "      <td>23.000000</td>\n",
       "      <td>36.000000</td>\n",
       "      <td>12.000000</td>\n",
       "      <td>2.000000</td>\n",
       "      <td>8.000000</td>\n",
       "      <td>55.000000</td>\n",
       "      <td>0.000000</td>\n",
       "      <td>18.000000</td>\n",
       "      <td>1259.000000</td>\n",
       "      <td>...</td>\n",
       "      <td>0.000000</td>\n",
       "      <td>0.00000</td>\n",
       "      <td>1.000000</td>\n",
       "      <td>15.000000</td>\n",
       "      <td>68.000000</td>\n",
       "      <td>3.000000</td>\n",
       "      <td>25.000000</td>\n",
       "      <td>0.000000</td>\n",
       "      <td>1.000000</td>\n",
       "      <td>0.000000</td>\n",
       "    </tr>\n",
       "    <tr>\n",
       "      <th>max</th>\n",
       "      <td>44382.000000</td>\n",
       "      <td>222.000000</td>\n",
       "      <td>340.000000</td>\n",
       "      <td>133.000000</td>\n",
       "      <td>914.000000</td>\n",
       "      <td>25652.000000</td>\n",
       "      <td>409978.000000</td>\n",
       "      <td>296350.000000</td>\n",
       "      <td>168.000000</td>\n",
       "      <td>11314.000000</td>\n",
       "      <td>...</td>\n",
       "      <td>7.000000</td>\n",
       "      <td>401.00000</td>\n",
       "      <td>8.000000</td>\n",
       "      <td>154.000000</td>\n",
       "      <td>836.000000</td>\n",
       "      <td>29.000000</td>\n",
       "      <td>135.000000</td>\n",
       "      <td>1.000000</td>\n",
       "      <td>1.000000</td>\n",
       "      <td>1.000000</td>\n",
       "    </tr>\n",
       "  </tbody>\n",
       "</table>\n",
       "<p>8 rows × 24 columns</p>\n",
       "</div>"
      ],
      "text/plain": [
       "              About    Add_Friend  Add_to_Playlist     Downgrade  \\\n",
       "count  22278.000000  22278.000000     22278.000000  22278.000000   \n",
       "mean       4.163704     17.131879        26.839079      8.270042   \n",
       "std      297.350418     20.514932        32.071278     11.600283   \n",
       "min        0.000000      0.000000         0.000000      0.000000   \n",
       "25%        0.000000      3.000000         5.000000      0.000000   \n",
       "50%        1.000000     10.000000        16.000000      4.000000   \n",
       "75%        3.000000     23.000000        36.000000     12.000000   \n",
       "max    44382.000000    222.000000       340.000000    133.000000   \n",
       "\n",
       "              Error          Help           Home          Login        Logout  \\\n",
       "count  22278.000000  22278.000000   22278.000000   22278.000000  22278.000000   \n",
       "mean       1.165365      6.962025      60.288266      13.302361     13.286875   \n",
       "std        6.338093    171.973041    2746.874171    1985.486012     14.549335   \n",
       "min        0.000000      0.000000       0.000000       0.000000      0.000000   \n",
       "25%        0.000000      1.000000      11.000000       0.000000      4.000000   \n",
       "50%        1.000000      3.000000      27.000000       0.000000      9.000000   \n",
       "75%        2.000000      8.000000      55.000000       0.000000     18.000000   \n",
       "max      914.000000  25652.000000  409978.000000  296350.000000    168.000000   \n",
       "\n",
       "           NextSong  ...  Submit_Downgrade  Submit_Registration  \\\n",
       "count  22278.000000  ...      22278.000000          22278.00000   \n",
       "mean     935.913098  ...          0.291498              0.01800   \n",
       "std     1099.625399  ...          0.605855              2.68662   \n",
       "min        0.000000  ...          0.000000              0.00000   \n",
       "25%      204.000000  ...          0.000000              0.00000   \n",
       "50%      552.000000  ...          0.000000              0.00000   \n",
       "75%     1259.000000  ...          0.000000              0.00000   \n",
       "max    11314.000000  ...          7.000000            401.00000   \n",
       "\n",
       "       Submit_Upgrade   Thumbs_Down     Thumbs_Up       Upgrade     avg_songs  \\\n",
       "count    22278.000000  22278.000000  22278.000000  22278.000000  22278.000000   \n",
       "mean         0.679370     10.737589     51.686193      2.267125     21.537571   \n",
       "std          0.756197     12.615942     64.588850      2.652989      6.994660   \n",
       "min          0.000000      0.000000      0.000000      0.000000      0.000000   \n",
       "25%          0.000000      2.000000     10.000000      0.000000     17.000000   \n",
       "50%          1.000000      7.000000     29.000000      1.000000     22.000000   \n",
       "75%          1.000000     15.000000     68.000000      3.000000     25.000000   \n",
       "max          8.000000    154.000000    836.000000     29.000000    135.000000   \n",
       "\n",
       "         last_level   last_gender         label  \n",
       "count  22278.000000  22278.000000  22278.000000  \n",
       "mean       0.226681      0.522489      0.224571  \n",
       "std        0.418694      0.499505      0.417309  \n",
       "min        0.000000      0.000000      0.000000  \n",
       "25%        0.000000      0.000000      0.000000  \n",
       "50%        0.000000      1.000000      0.000000  \n",
       "75%        0.000000      1.000000      0.000000  \n",
       "max        1.000000      1.000000      1.000000  \n",
       "\n",
       "[8 rows x 24 columns]"
      ]
     },
     "execution_count": 47,
     "metadata": {},
     "output_type": "execute_result"
    }
   ],
   "source": [
    "# Producing general statistics for each column\n",
    "df_base_pandas.describe()"
   ]
  },
  {
   "cell_type": "markdown",
   "metadata": {},
   "source": [
    "## Data Visualization "
   ]
  },
  {
   "cell_type": "code",
   "execution_count": 14,
   "metadata": {
    "collapsed": true
   },
   "outputs": [],
   "source": [
    "import matplotlib.pyplot as plt; plt.rcdefaults()\n",
    "import numpy as np\n",
    "import matplotlib.pyplot as plt\n"
   ]
  },
  {
   "cell_type": "code",
   "execution_count": 15,
   "metadata": {
    "collapsed": true
   },
   "outputs": [],
   "source": [
    "# Spark temp view for running SQL\n",
    "df.createOrReplaceTempView(\"dfsql\")\n",
    "df_base.createOrReplaceTempView(\"dfbasesql\")"
   ]
  },
  {
   "cell_type": "code",
   "execution_count": 16,
   "metadata": {},
   "outputs": [
    {
     "data": {
      "text/plain": [
       "Text(0.5, 1.0, 'Cancellation vs total')"
      ]
     },
     "execution_count": 16,
     "metadata": {},
     "output_type": "execute_result"
    },
    {
     "data": {
      "image/png": "[encoded data removed]",
      "text/plain": [
       "<Figure size 432x288 with 1 Axes>"
      ]
     },
     "metadata": {
      "needs_background": "light"
     },
     "output_type": "display_data"
    }
   ],
   "source": [
    "# 1. How many cancelled in the total population\n",
    "my_data = spark.sql(\"SELECT count(*) as total, sum(label) as total_cancelled FROM dfbasesql\")\n",
    "pdf1=my_data.toPandas()\n",
    "pdf1=pdf1.transpose().reset_index()\n",
    "pdf1.plot(kind='bar',x='index',y=0, label='Count')\n",
    "plt.xlabel('Attribute')\n",
    "plt.ylabel('Counts')\n",
    "plt.title('Cancellation vs total')\n"
   ]
  },
  {
   "cell_type": "code",
   "execution_count": 17,
   "metadata": {},
   "outputs": [
    {
     "data": {
      "text/plain": [
       "Text(0.5, 1.0, 'males vs females')"
      ]
     },
     "execution_count": 17,
     "metadata": {},
     "output_type": "execute_result"
    },
    {
     "data": {
      "image/png": "[encoded data removed]",
      "text/plain": [
       "<Figure size 432x288 with 1 Axes>"
      ]
     },
     "metadata": {
      "needs_background": "light"
     },
     "output_type": "display_data"
    }
   ],
   "source": [
    "# 2. How many males and females are in the total population?\n",
    "my_data=spark.sql(\"SELECT sum(CASE WHEN last_gender=1 THEN 1 ELSE 0 END) as Males, sum(CASE WHEN last_gender=0 THEN 1 ELSE 0 END) as Females FROM dfbasesql\")\n",
    "pdf1=my_data.toPandas()\n",
    "pdf1=pdf1.transpose().reset_index()\n",
    "pdf1.plot(kind='bar',x='index',y=0, label='Count')\n",
    "plt.xlabel('Attribute')\n",
    "plt.ylabel('Counts')\n",
    "plt.title('males vs females')\n"
   ]
  },
  {
   "cell_type": "code",
   "execution_count": 18,
   "metadata": {},
   "outputs": [
    {
     "data": {
      "text/plain": [
       "Text(0.5, 1.0, 'Top N locations by number of users ')"
      ]
     },
     "execution_count": 18,
     "metadata": {},
     "output_type": "execute_result"
    },
    {
     "data": {
      "image/png": "[encoded data removed]",
      "text/plain": [
       "<Figure size 432x288 with 1 Axes>"
      ]
     },
     "metadata": {
      "needs_background": "light"
     },
     "output_type": "display_data"
    }
   ],
   "source": [
    "# 3. What are the Popular locations ?\n",
    "my_data = spark.sql(\"SELECT location, count(*) as nbr_of_users from (SELECT distinct userId, location FROM dfsql) a group by location order by 2 desc limit 15\")\n",
    "pdf1=my_data.toPandas()\n",
    "#pdf1=pdf1.transpose().reset_index()\n",
    "pdf1.plot(kind='bar',x='location',y='nbr_of_users', label='Count')\n",
    "plt.xlabel('Attribute')\n",
    "plt.ylabel('Counts')\n",
    "plt.title('Top N locations by number of users ')"
   ]
  },
  {
   "cell_type": "code",
   "execution_count": 19,
   "metadata": {},
   "outputs": [
    {
     "data": {
      "text/plain": [
       "Text(0.5, 1.0, 'Top N locations by number of users who cancelled')"
      ]
     },
     "execution_count": 19,
     "metadata": {},
     "output_type": "execute_result"
    },
    {
     "data": {
      "image/png": "[encoded data removed]",
      "text/plain": [
       "<Figure size 432x288 with 1 Axes>"
      ]
     },
     "metadata": {
      "needs_background": "light"
     },
     "output_type": "display_data"
    }
   ],
   "source": [
    "# 4. Which location most cancellation are coming from \n",
    "my_data = spark.sql(\"SELECT location, count(*) as nbr_of_users from (SELECT distinct userId, location FROM dfsql where page ='Cancellation Confirmation') a group by   location order by 2 desc Limit 15\")\n",
    "pdf1=my_data.toPandas()\n",
    "#pdf1=pdf1.transpose().reset_index()\n",
    "pdf1.plot(kind='bar',x='location',y='nbr_of_users', label='Count')\n",
    "plt.xlabel('Attribute')\n",
    "plt.ylabel('Counts')\n",
    "plt.title('Top N locations by number of users who cancelled')"
   ]
  },
  {
   "cell_type": "code",
   "execution_count": 22,
   "metadata": {},
   "outputs": [
    {
     "data": {
      "image/png": "[encoded data removed]",
      "text/plain": [
       "<Figure size 288x288 with 2 Axes>"
      ]
     },
     "metadata": {
      "needs_background": "light"
     },
     "output_type": "display_data"
    }
   ],
   "source": [
    "plotdf =df_base_pandas\n",
    "plt.matshow(plotdf.corr('kendall'))\n",
    "plt.xticks(range(len(plotdf.columns)), plotdf.columns,rotation='vertical')\n",
    "plt.yticks(range(len(plotdf.columns)), plotdf.columns)\n",
    "plt.colorbar()\n",
    "plt.show()"
   ]
  },
  {
   "cell_type": "markdown",
   "metadata": {},
   "source": [
    "# Methodology "
   ]
  },
  {
   "cell_type": "code",
   "execution_count": 23,
   "metadata": {
    "collapsed": true
   },
   "outputs": [],
   "source": [
    "# Function to get number of negative cases. This will be used to underweight -ve and overweight +ve\n",
    "def cancelPCT(train):\n",
    "    dataset_size=float(train.select(\"label\").count())\n",
    "    numPositives=train.select(\"label\").where('label == 1').count()\n",
    "    per_ones=(float(numPositives)/float(dataset_size))*100\n",
    "    numNegatives=float(dataset_size-numPositives)\n",
    "    print('The number of ones are {}'.format(numPositives))\n",
    "    print('Percentage of ones are {}'.format(per_ones))\n",
    "    return dataset_size, numNegatives"
   ]
  },
  {
   "cell_type": "code",
   "execution_count": 24,
   "metadata": {
    "scrolled": true
   },
   "outputs": [
    {
     "name": "stdout",
     "output_type": "stream",
     "text": [
      "The number of ones are 5003\n",
      "Percentage of ones are 22.457132597181076\n"
     ]
    },
    {
     "data": {
      "text/plain": [
       "(22278.0, 17275.0)"
      ]
     },
     "execution_count": 24,
     "metadata": {},
     "output_type": "execute_result"
    }
   ],
   "source": [
    "cancelPCT(df_base)"
   ]
  },
  {
   "cell_type": "code",
   "execution_count": 25,
   "metadata": {},
   "outputs": [
    {
     "data": {
      "text/plain": [
       "['About',\n",
       " 'Add_Friend',\n",
       " 'Add_to_Playlist',\n",
       " 'Downgrade',\n",
       " 'Error',\n",
       " 'Help',\n",
       " 'Home',\n",
       " 'Login',\n",
       " 'Logout',\n",
       " 'NextSong',\n",
       " 'Register',\n",
       " 'Roll_Advert',\n",
       " 'Save_Settings',\n",
       " 'Settings',\n",
       " 'Submit_Downgrade',\n",
       " 'Submit_Registration',\n",
       " 'Submit_Upgrade',\n",
       " 'Thumbs_Down',\n",
       " 'Thumbs_Up',\n",
       " 'Upgrade',\n",
       " 'avg_songs',\n",
       " 'last_level',\n",
       " 'last_gender']"
      ]
     },
     "execution_count": 25,
     "metadata": {},
     "output_type": "execute_result"
    }
   ],
   "source": [
    "# we will now further prepare dataset of ML\n",
    "continuousCols=df_base.columns\n",
    "continuousCols.remove(\"label\")\n",
    "continuousCols.remove(\"userId\")\n",
    "\n",
    "continuousCols"
   ]
  },
  {
   "cell_type": "code",
   "execution_count": 26,
   "metadata": {
    "collapsed": true
   },
   "outputs": [],
   "source": [
    "# splitting data\n",
    "train, test =df_base.randomSplit([0.8, 0.2], seed=42)"
   ]
  },
  {
   "cell_type": "code",
   "execution_count": 27,
   "metadata": {},
   "outputs": [
    {
     "name": "stdout",
     "output_type": "stream",
     "text": [
      "The number of ones are 4010\n",
      "Percentage of ones are 22.573744652105383\n"
     ]
    }
   ],
   "source": [
    "# Let us check how is the \"cancelled \" distribution in our training set\n",
    "dataset_size, numNegatives = cancelPCT(train)"
   ]
  },
  {
   "cell_type": "code",
   "execution_count": 28,
   "metadata": {},
   "outputs": [
    {
     "name": "stdout",
     "output_type": "stream",
     "text": [
      "BalancingRatio = 0.7742625534789462\n"
     ]
    }
   ],
   "source": [
    "BalancingRatio= numNegatives/dataset_size\n",
    "print('BalancingRatio = {}'.format(BalancingRatio))"
   ]
  },
  {
   "cell_type": "code",
   "execution_count": 29,
   "metadata": {},
   "outputs": [
    {
     "name": "stdout",
     "output_type": "stream",
     "text": [
      "+-------------------+\n",
      "|       classWeights|\n",
      "+-------------------+\n",
      "|0.22573744652105376|\n",
      "|0.22573744652105376|\n",
      "| 0.7742625534789462|\n",
      "| 0.7742625534789462|\n",
      "|0.22573744652105376|\n",
      "+-------------------+\n",
      "only showing top 5 rows\n",
      "\n"
     ]
    }
   ],
   "source": [
    "train=train.withColumn(\"classWeights\", F.when(train.label == 1,BalancingRatio).otherwise(1-BalancingRatio))\n",
    "train.select(\"classWeights\").show(5)"
   ]
  },
  {
   "cell_type": "code",
   "execution_count": 30,
   "metadata": {
    "collapsed": true
   },
   "outputs": [],
   "source": [
    "from pyspark.ml import Pipeline\n",
    "from pyspark.ml.classification import LogisticRegression\n",
    "from pyspark.ml.feature import VectorAssembler\n",
    "from pyspark.ml.evaluation import MulticlassClassificationEvaluator\n",
    "from pyspark.ml.regression import LinearRegression\n",
    "from pyspark.ml.tuning import CrossValidator, ParamGridBuilder\n",
    "# ps: all my features are continuous (i.e. no categorical) and hence no need for Vector Index\n",
    "assembler = VectorAssembler(inputCols=continuousCols, outputCol=\"features\")\n",
    "\n",
    "from pyspark.ml.feature import StandardScaler\n",
    "standardscaler=StandardScaler().setInputCol(\"features\").setOutputCol(\"Scaled_features\")\n",
    "lr = LogisticRegression(labelCol=\"label\", featuresCol=\"Scaled_features\",weightCol=\"classWeights\",maxIter=10)\n",
    "\n",
    "pipeline = Pipeline(stages=[assembler,standardscaler,lr])"
   ]
  },
  {
   "cell_type": "code",
   "execution_count": 31,
   "metadata": {
    "collapsed": true,
    "scrolled": true
   },
   "outputs": [],
   "source": [
    "model = pipeline.fit(train)"
   ]
  },
  {
   "cell_type": "markdown",
   "metadata": {},
   "source": [
    "# Results"
   ]
  },
  {
   "cell_type": "code",
   "execution_count": 32,
   "metadata": {
    "collapsed": true
   },
   "outputs": [],
   "source": [
    "results=model.transform(test)"
   ]
  },
  {
   "cell_type": "markdown",
   "metadata": {},
   "source": [
    "### Performance Evaluations"
   ]
  },
  {
   "cell_type": "code",
   "execution_count": 37,
   "metadata": {
    "collapsed": true
   },
   "outputs": [],
   "source": [
    "results_pandas=results.toPandas()"
   ]
  },
  {
   "cell_type": "code",
   "execution_count": 41,
   "metadata": {
    "collapsed": true
   },
   "outputs": [],
   "source": [
    "y_test = results_pandas['label']\n",
    "y_pred = results_pandas['prediction']"
   ]
  },
  {
   "cell_type": "code",
   "execution_count": 43,
   "metadata": {
    "collapsed": true
   },
   "outputs": [],
   "source": [
    "# Generic function to create various performance metrics\n",
    "def perf_measure(y_actual, y_hat):\n",
    "    TP = 0\n",
    "    FP = 0\n",
    "    TN = 0\n",
    "    FN = 0\n",
    "\n",
    "    for i in range(len(y_hat)): \n",
    "        if y_actual[i]==y_hat[i]==1:\n",
    "           TP += 1\n",
    "        if y_hat[i]==1 and y_actual[i]!=y_hat[i]:\n",
    "           FP += 1\n",
    "        if y_actual[i]==y_hat[i]==0:\n",
    "           TN += 1\n",
    "        if y_hat[i]==0 and y_actual[i]!=y_hat[i]:\n",
    "           FN += 1\n",
    "\n",
    "    return(TP, FP, TN, FN)\n",
    "\n",
    "# True Prositive, False Positive, True Negative and False Negative\n",
    "TP,FP, TN, FN = perf_measure(y_test, y_pred)\n",
    "# Sensitivity, hit rate, recall, or true positive rate\n",
    "TPR = TP/(TP+FN)\n",
    "# Specificity or true negative rate\n",
    "TNR = TN/(TN+FP) \n",
    "# Precision or positive predictive value\n",
    "PPV = TP/(TP+FP)\n",
    "# Negative predictive value\n",
    "NPV = TN/(TN+FN)\n",
    "# Fall out or false positive rate\n",
    "FPR = FP/(FP+TN)\n",
    "# False negative rate\n",
    "FNR = FN/(TP+FN)\n",
    "# False ommision rate\n",
    "FOR = FN/(TN+FN)\n",
    "# Overall accuracy\n",
    "ACC = (TP+TN)/(TP+FP+FN+TN)\n"
   ]
  },
  {
   "cell_type": "code",
   "execution_count": 45,
   "metadata": {},
   "outputs": [
    {
     "name": "stdout",
     "output_type": "stream",
     "text": [
      "True Positive Rate:  0.63\n",
      "False Ommision Rate 0.14\n",
      "Precision : 0.32\n",
      "accuracy : 0.63\n"
     ]
    }
   ],
   "source": [
    "print ('True Positive Rate: ', round(TPR,2))\n",
    "print( 'False Ommision Rate', round(FOR,2))\n",
    "print( 'Precision :' , round(PPV,2))\n",
    "print('accuracy :', round(ACC,2))"
   ]
  },
  {
   "cell_type": "markdown",
   "metadata": {},
   "source": [
    "## Coefficients"
   ]
  },
  {
   "cell_type": "code",
   "execution_count": 48,
   "metadata": {
    "collapsed": true
   },
   "outputs": [],
   "source": [
    "glr = model.stages[2]"
   ]
  },
  {
   "cell_type": "code",
   "execution_count": 49,
   "metadata": {},
   "outputs": [
    {
     "data": {
      "text/html": [
       "<div>\n",
       "<style scoped>\n",
       "    .dataframe tbody tr th:only-of-type {\n",
       "        vertical-align: middle;\n",
       "    }\n",
       "\n",
       "    .dataframe tbody tr th {\n",
       "        vertical-align: top;\n",
       "    }\n",
       "\n",
       "    .dataframe thead th {\n",
       "        text-align: right;\n",
       "    }\n",
       "</style>\n",
       "<table border=\"1\" class=\"dataframe\">\n",
       "  <thead>\n",
       "    <tr style=\"text-align: right;\">\n",
       "      <th></th>\n",
       "      <th>index</th>\n",
       "      <th>0</th>\n",
       "    </tr>\n",
       "  </thead>\n",
       "  <tbody>\n",
       "    <tr>\n",
       "      <th>3</th>\n",
       "      <td>0.762967</td>\n",
       "      <td>Downgrade</td>\n",
       "    </tr>\n",
       "    <tr>\n",
       "      <th>16</th>\n",
       "      <td>0.600274</td>\n",
       "      <td>Submit_Upgrade</td>\n",
       "    </tr>\n",
       "    <tr>\n",
       "      <th>11</th>\n",
       "      <td>0.571272</td>\n",
       "      <td>Roll_Advert</td>\n",
       "    </tr>\n",
       "    <tr>\n",
       "      <th>21</th>\n",
       "      <td>0.323290</td>\n",
       "      <td>last_level</td>\n",
       "    </tr>\n",
       "    <tr>\n",
       "      <th>17</th>\n",
       "      <td>0.279375</td>\n",
       "      <td>Thumbs_Down</td>\n",
       "    </tr>\n",
       "    <tr>\n",
       "      <th>13</th>\n",
       "      <td>0.149809</td>\n",
       "      <td>Settings</td>\n",
       "    </tr>\n",
       "    <tr>\n",
       "      <th>22</th>\n",
       "      <td>-0.004568</td>\n",
       "      <td>last_gender</td>\n",
       "    </tr>\n",
       "    <tr>\n",
       "      <th>7</th>\n",
       "      <td>-0.055369</td>\n",
       "      <td>Login</td>\n",
       "    </tr>\n",
       "    <tr>\n",
       "      <th>10</th>\n",
       "      <td>-0.055369</td>\n",
       "      <td>Register</td>\n",
       "    </tr>\n",
       "    <tr>\n",
       "      <th>15</th>\n",
       "      <td>-0.055369</td>\n",
       "      <td>Submit_Registration</td>\n",
       "    </tr>\n",
       "    <tr>\n",
       "      <th>5</th>\n",
       "      <td>-0.056891</td>\n",
       "      <td>Help</td>\n",
       "    </tr>\n",
       "    <tr>\n",
       "      <th>0</th>\n",
       "      <td>-0.059014</td>\n",
       "      <td>About</td>\n",
       "    </tr>\n",
       "    <tr>\n",
       "      <th>6</th>\n",
       "      <td>-0.062416</td>\n",
       "      <td>Home</td>\n",
       "    </tr>\n",
       "    <tr>\n",
       "      <th>4</th>\n",
       "      <td>-0.074746</td>\n",
       "      <td>Error</td>\n",
       "    </tr>\n",
       "    <tr>\n",
       "      <th>12</th>\n",
       "      <td>-0.090501</td>\n",
       "      <td>Save_Settings</td>\n",
       "    </tr>\n",
       "    <tr>\n",
       "      <th>20</th>\n",
       "      <td>-0.095812</td>\n",
       "      <td>avg_songs</td>\n",
       "    </tr>\n",
       "    <tr>\n",
       "      <th>1</th>\n",
       "      <td>-0.121024</td>\n",
       "      <td>Add_Friend</td>\n",
       "    </tr>\n",
       "    <tr>\n",
       "      <th>9</th>\n",
       "      <td>-0.121066</td>\n",
       "      <td>NextSong</td>\n",
       "    </tr>\n",
       "    <tr>\n",
       "      <th>2</th>\n",
       "      <td>-0.127830</td>\n",
       "      <td>Add_to_Playlist</td>\n",
       "    </tr>\n",
       "    <tr>\n",
       "      <th>19</th>\n",
       "      <td>-0.315273</td>\n",
       "      <td>Upgrade</td>\n",
       "    </tr>\n",
       "    <tr>\n",
       "      <th>8</th>\n",
       "      <td>-0.387864</td>\n",
       "      <td>Logout</td>\n",
       "    </tr>\n",
       "    <tr>\n",
       "      <th>14</th>\n",
       "      <td>-0.463844</td>\n",
       "      <td>Submit_Downgrade</td>\n",
       "    </tr>\n",
       "    <tr>\n",
       "      <th>18</th>\n",
       "      <td>-0.588860</td>\n",
       "      <td>Thumbs_Up</td>\n",
       "    </tr>\n",
       "  </tbody>\n",
       "</table>\n",
       "</div>"
      ],
      "text/plain": [
       "       index                    0\n",
       "3   0.762967            Downgrade\n",
       "16  0.600274       Submit_Upgrade\n",
       "11  0.571272          Roll_Advert\n",
       "21  0.323290           last_level\n",
       "17  0.279375          Thumbs_Down\n",
       "13  0.149809             Settings\n",
       "22 -0.004568          last_gender\n",
       "7  -0.055369                Login\n",
       "10 -0.055369             Register\n",
       "15 -0.055369  Submit_Registration\n",
       "5  -0.056891                 Help\n",
       "0  -0.059014                About\n",
       "6  -0.062416                 Home\n",
       "4  -0.074746                Error\n",
       "12 -0.090501        Save_Settings\n",
       "20 -0.095812            avg_songs\n",
       "1  -0.121024           Add_Friend\n",
       "9  -0.121066             NextSong\n",
       "2  -0.127830      Add_to_Playlist\n",
       "19 -0.315273              Upgrade\n",
       "8  -0.387864               Logout\n",
       "14 -0.463844     Submit_Downgrade\n",
       "18 -0.588860            Thumbs_Up"
      ]
     },
     "execution_count": 49,
     "metadata": {},
     "output_type": "execute_result"
    }
   ],
   "source": [
    "pd.DataFrame(continuousCols,glr.coefficients).reset_index().sort_values(by='index', ascending=False)"
   ]
  },
  {
   "cell_type": "code",
   "execution_count": null,
   "metadata": {
    "collapsed": true
   },
   "outputs": [],
   "source": []
  }
 ],
 "metadata": {
  "kernelspec": {
   "display_name": "Python 3",
   "language": "python",
   "name": "python3"
  },
  "language_info": {
   "codemirror_mode": {
    "name": "ipython",
    "version": 3
   },
   "file_extension": ".py",
   "mimetype": "text/x-python",
   "name": "python",
   "nbconvert_exporter": "python",
   "pygments_lexer": "ipython3",
   "version": "3.6.3"
  }
 },
 "nbformat": 4,
 "nbformat_minor": 2
}
